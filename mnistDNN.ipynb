{
 "cells": [
  {
   "cell_type": "code",
   "execution_count": 1,
   "metadata": {},
   "outputs": [],
   "source": [
    "import tensorflow as tf\n",
    "import numpy as np\n",
    "import matplotlib.pyplot as plt\n",
    "mnist = tf.keras.datasets.mnist\n"
   ]
  },
  {
   "cell_type": "code",
   "execution_count": 2,
   "metadata": {},
   "outputs": [
    {
     "data": {
      "image/png": "[encoded data removed]",
      "text/plain": [
       "<Figure size 432x288 with 1 Axes>"
      ]
     },
     "metadata": {
      "needs_background": "light"
     },
     "output_type": "display_data"
    }
   ],
   "source": [
    "\n",
    "(x_train, y_train),(x_test, y_test) = mnist.load_data()\n",
    "plt.figure()\n",
    "plt.imshow(x_train[0])\n",
    "plt.grid(False)\n",
    "plt.show()"
   ]
  },
  {
   "cell_type": "code",
   "execution_count": 3,
   "metadata": {},
   "outputs": [
    {
     "data": {
      "image/png": "[encoded data removed]",
      "text/plain": [
       "<Figure size 432x288 with 1 Axes>"
      ]
     },
     "metadata": {
      "needs_background": "light"
     },
     "output_type": "display_data"
    }
   ],
   "source": [
    "x_train = x_train / 255\n",
    "x_test = x_test / 255\n",
    "\n",
    "plt.figure()\n",
    "plt.imshow(x_train[0],  cmap=plt.cm.binary)\n",
    "plt.grid(False)\n",
    "plt.show()"
   ]
  },
  {
   "cell_type": "code",
   "execution_count": 4,
   "metadata": {},
   "outputs": [
    {
     "name": "stdout",
     "output_type": "stream",
     "text": [
      "WARNING:tensorflow:From C:\\Users\\Sanket\\Anaconda3\\lib\\site-packages\\tensorflow\\python\\ops\\resource_variable_ops.py:435: colocate_with (from tensorflow.python.framework.ops) is deprecated and will be removed in a future version.\n",
      "Instructions for updating:\n",
      "Colocations handled automatically by placer.\n"
     ]
    }
   ],
   "source": [
    "model = tf.keras.models.Sequential([\n",
    "  tf.keras.layers.Flatten(input_shape=(28, 28)),\n",
    "  tf.keras.layers.Dense(1000, activation=tf.nn.relu),\n",
    "  tf.keras.layers.Dense(1000, activation=tf.nn.relu),\n",
    "  tf.keras.layers.Dense(500, activation=tf.nn.relu),\n",
    "  tf.keras.layers.Dense(200, activation=tf.nn.relu),\n",
    "  tf.keras.layers.Dense(10, activation=tf.nn.sigmoid)\n",
    "])"
   ]
  },
  {
   "cell_type": "code",
   "execution_count": 7,
   "metadata": {},
   "outputs": [
    {
     "name": "stdout",
     "output_type": "stream",
     "text": [
      "Epoch 1/5\n",
      "60000/60000 [==============================] - 111s 2ms/sample - loss: 0.0604 - acc: 0.9857s - los\n",
      "Epoch 2/5\n",
      "60000/60000 [==============================] - 101s 2ms/sample - loss: 0.0469 - acc: 0.9883\n",
      "Epoch 3/5\n",
      "60000/60000 [==============================] - 104s 2ms/sample - loss: 0.0413 - acc: 0.9892s - loss: 0.0412 - acc: 0.9\n",
      "Epoch 4/5\n",
      "60000/60000 [==============================] - 94s 2ms/sample - loss: 0.0512 - acc: 0.9883\n",
      "Epoch 5/5\n",
      "60000/60000 [==============================] - 99s 2ms/sample - loss: 0.0376 - acc: 0.9907\n",
      "10000/10000 [==============================] - 2s 245us/sample - loss: 0.1072 - acc: 0.9833\n"
     ]
    }
   ],
   "source": [
    "model.compile(optimizer='adam', loss='sparse_categorical_crossentropy',metrics=['accuracy'])\n",
    "\n",
    "model.fit(x_train, y_train, epochs=5)\n",
    "Loss, Acc = model.evaluate(x_test, y_test)"
   ]
  },
  {
   "cell_type": "code",
   "execution_count": 12,
   "metadata": {},
   "outputs": [
    {
     "name": "stdout",
     "output_type": "stream",
     "text": [
      "Accuracy :  0.9833\n",
      "Loss :  0.10724004424527665\n"
     ]
    }
   ],
   "source": [
    "print(\"Accuracy : \",Acc)\n",
    "print(\"Loss : \",Loss)"
   ]
  },
  {
   "cell_type": "code",
   "execution_count": 15,
   "metadata": {},
   "outputs": [
    {
     "data": {
      "text/plain": [
       "array([[0., 0., 0., ..., 1., 0., 0.],\n",
       "       [0., 0., 1., ..., 0., 0., 0.],\n",
       "       [0., 1., 0., ..., 0., 0., 0.],\n",
       "       ...,\n",
       "       [0., 0., 0., ..., 0., 0., 0.],\n",
       "       [0., 0., 0., ..., 0., 0., 0.],\n",
       "       [0., 0., 0., ..., 0., 0., 0.]], dtype=float32)"
      ]
     },
     "execution_count": 15,
     "metadata": {},
     "output_type": "execute_result"
    }
   ],
   "source": [
    "Arr = model.predict(x_test)\n",
    "Arr"
   ]
  },
  {
   "cell_type": "code",
   "execution_count": 16,
   "metadata": {},
   "outputs": [
    {
     "data": {
      "text/plain": [
       "array([0., 0., 0., 0., 0., 0., 0., 1., 0., 0.], dtype=float32)"
      ]
     },
     "execution_count": 16,
     "metadata": {},
     "output_type": "execute_result"
    }
   ],
   "source": [
    "Arr[0]"
   ]
  },
  {
   "cell_type": "code",
   "execution_count": 19,
   "metadata": {},
   "outputs": [
    {
     "data": {
      "text/plain": [
       "1"
      ]
     },
     "execution_count": 19,
     "metadata": {},
     "output_type": "execute_result"
    }
   ],
   "source": [
    "Arr[5].argmax()"
   ]
  },
  {
   "cell_type": "code",
   "execution_count": 20,
   "metadata": {},
   "outputs": [
    {
     "data": {
      "text/plain": [
       "<matplotlib.image.AxesImage at 0x2814abee550>"
      ]
     },
     "execution_count": 20,
     "metadata": {},
     "output_type": "execute_result"
    },
    {
     "data": {
      "image/png": "[encoded data removed]",
      "text/plain": [
       "<Figure size 432x288 with 1 Axes>"
      ]
     },
     "metadata": {
      "needs_background": "light"
     },
     "output_type": "display_data"
    }
   ],
   "source": [
    "plt.imshow(x_test[5])"
   ]
  },
  {
   "cell_type": "code",
   "execution_count": 17,
   "metadata": {},
   "outputs": [
    {
     "data": {
      "text/plain": [
       "([array([  5.,   6.,  20.,  68., 226., 442., 476., 421., 263.,  73.]),\n",
       "  array([0., 0., 0., 1., 4., 3., 1., 0., 0., 1.])],\n",
       " array([-0.44629022, -0.38329136, -0.3202925 , -0.25729364, -0.19429477,\n",
       "        -0.1312959 , -0.06829704, -0.00529818,  0.05770069,  0.12069955,\n",
       "         0.18369842], dtype=float32),\n",
       " <a list of 2 Lists of Patches objects>)"
      ]
     },
     "execution_count": 17,
     "metadata": {},
     "output_type": "execute_result"
    },
    {
     "data": {
      "image/png": "[encoded data removed]",
      "text/plain": [
       "<Figure size 432x288 with 1 Axes>"
      ]
     },
     "metadata": {
      "needs_background": "light"
     },
     "output_type": "display_data"
    }
   ],
   "source": [
    "plt.hist(model.layers[5].get_weights())"
   ]
  },
  {
   "cell_type": "code",
   "execution_count": 8,
   "metadata": {},
   "outputs": [
    {
     "data": {
      "text/plain": [
       "([array([5.0000e+00, 1.7000e+02, 2.3690e+03, 2.0542e+04, 3.8646e+04,\n",
       "         3.1543e+04, 6.0620e+03, 6.0000e+02, 5.6000e+01, 7.0000e+00]),\n",
       "  array([ 0.,  0.,  3., 39., 97., 35., 14.,  8.,  4.,  0.])],\n",
       " array([-0.3752007 , -0.29770297, -0.22020528, -0.14270756, -0.06520985,\n",
       "         0.01228786,  0.08978556,  0.16728327,  0.24478099,  0.32227868,\n",
       "         0.3997764 ], dtype=float32),\n",
       " <a list of 2 Lists of Patches objects>)"
      ]
     },
     "execution_count": 8,
     "metadata": {},
     "output_type": "execute_result"
    },
    {
     "data": {
      "image/png": "[encoded data removed]",
      "text/plain": [
       "<Figure size 432x288 with 1 Axes>"
      ]
     },
     "metadata": {
      "needs_background": "light"
     },
     "output_type": "display_data"
    }
   ],
   "source": [
    "plt.hist(model.layers[4].get_weights())"
   ]
  },
  {
   "cell_type": "code",
   "execution_count": 9,
   "metadata": {},
   "outputs": [
    {
     "data": {
      "text/plain": [
       "([array([3.40000e+01, 1.03200e+03, 1.86760e+04, 1.60755e+05, 2.56020e+05,\n",
       "         5.76180e+04, 5.43800e+03, 3.93000e+02, 3.10000e+01, 3.00000e+00]),\n",
       "  array([  0.,   3.,  59., 212., 152.,  46.,  26.,   2.,   0.,   0.])],\n",
       " array([-0.41557136, -0.3210705 , -0.2265696 , -0.13206871, -0.03756782,\n",
       "         0.05693306,  0.15143394,  0.24593483,  0.3404357 ,  0.43493658,\n",
       "         0.5294375 ], dtype=float32),\n",
       " <a list of 2 Lists of Patches objects>)"
      ]
     },
     "execution_count": 9,
     "metadata": {},
     "output_type": "execute_result"
    },
    {
     "data": {
      "image/png": "[encoded data removed]",
      "text/plain": [
       "<Figure size 432x288 with 1 Axes>"
      ]
     },
     "metadata": {
      "needs_background": "light"
     },
     "output_type": "display_data"
    }
   ],
   "source": [
    "plt.hist(model.layers[3].get_weights())"
   ]
  },
  {
   "cell_type": "code",
   "execution_count": 10,
   "metadata": {},
   "outputs": [
    {
     "data": {
      "text/plain": [
       "[array([[ 0.03435997, -0.04062879,  0.02652369, ...,  0.04232296,\n",
       "          0.0090055 , -0.03604329],\n",
       "        [-0.01014478, -0.08870568, -0.06593123, ...,  0.05572036,\n",
       "         -0.06477546, -0.08245991],\n",
       "        [-0.05045871, -0.13346387, -0.051674  , ..., -0.03150769,\n",
       "         -0.10033394,  0.03279268],\n",
       "        ...,\n",
       "        [-0.19064581,  0.0767724 ,  0.01860562, ...,  0.19341518,\n",
       "          0.09161452, -0.10839683],\n",
       "        [-0.00624331,  0.01101409, -0.00212059, ...,  0.10370005,\n",
       "          0.05426941,  0.02899779],\n",
       "        [ 0.04575128,  0.06364108,  0.06945053, ..., -0.06988044,\n",
       "          0.0064468 , -0.02990958]], dtype=float32),\n",
       " array([-0.04012359, -0.00437111,  0.05617942, -0.05484512, -0.11118582,\n",
       "        -0.02089814,  0.0069275 ,  0.08104859, -0.1187568 , -0.02634019,\n",
       "        -0.09165163, -0.11982901, -0.07914471, -0.04997997,  0.01457634,\n",
       "        -0.10027901, -0.06254382, -0.08703597,  0.03600264, -0.04541047,\n",
       "        -0.18664534, -0.08505921, -0.09662116, -0.17333657, -0.06938185,\n",
       "        -0.13608146, -0.02008202, -0.05248506, -0.051492  ,  0.0254609 ,\n",
       "        -0.15756612, -0.08446811, -0.09233319, -0.13153754, -0.0844186 ,\n",
       "         0.02606107, -0.03495178, -0.15171576, -0.06284893,  0.00551591,\n",
       "        -0.08732861,  0.06530526, -0.02752718, -0.09892051, -0.02697287,\n",
       "        -0.0345847 ,  0.22258261, -0.08080018, -0.09501507, -0.06429681,\n",
       "        -0.1083156 , -0.12590267,  0.21483262, -0.09282372, -0.09537562,\n",
       "        -0.12669265, -0.03382009, -0.13687931, -0.17815699, -0.14161398,\n",
       "        -0.11564773, -0.15338258, -0.09914392, -0.10214368, -0.17972022,\n",
       "         0.00360054, -0.01542111, -0.10480572, -0.08013306,  0.12099072,\n",
       "        -0.0762118 , -0.09182668, -0.11405089, -0.12439993, -0.18204618,\n",
       "        -0.06751319, -0.05909773,  0.04399581,  0.1532045 , -0.05238924,\n",
       "        -0.22302379, -0.0313591 , -0.24306801, -0.07884473, -0.01903615,\n",
       "        -0.12521046, -0.08092362, -0.07550044, -0.03032681, -0.1033613 ,\n",
       "        -0.16734232, -0.09342669, -0.11427082, -0.08849869,  0.03928252,\n",
       "        -0.12938449,  0.09350085, -0.03715029, -0.17989437, -0.11845298,\n",
       "        -0.12447587, -0.0949171 , -0.13078757,  0.00393833, -0.09601056,\n",
       "        -0.09179839, -0.04817117, -0.07605518, -0.08015542, -0.09733589,\n",
       "        -0.04540925,  0.02207232, -0.16306384, -0.10555015,  0.02717191,\n",
       "        -0.12467515,  0.20073663, -0.21104008,  0.05214312,  0.00415247,\n",
       "        -0.06385253, -0.10990826, -0.04061315,  0.02475732, -0.09287212,\n",
       "        -0.18224557, -0.20258527,  0.09362296, -0.1435558 , -0.08746564,\n",
       "         0.08565164, -0.01970795, -0.12030725, -0.09673451, -0.04807431,\n",
       "        -0.14785382, -0.07588528, -0.02695002, -0.06932969,  0.00295025,\n",
       "        -0.16469176, -0.03222892, -0.1564188 ,  0.02589349, -0.16481958,\n",
       "        -0.0473172 , -0.00491517, -0.13473774,  0.02867444, -0.12382926,\n",
       "        -0.08351989, -0.10346522,  0.0854937 ,  0.01931529,  0.05595728,\n",
       "         0.04234322,  0.07580353,  0.09030668, -0.13431503, -0.10674658,\n",
       "        -0.05402942, -0.0094745 , -0.13410163,  0.02477148, -0.05970769,\n",
       "         0.07830643, -0.03973042, -0.1952242 , -0.04738737, -0.07134254,\n",
       "        -0.12641373, -0.07167017, -0.03699518, -0.01912505, -0.04576229,\n",
       "        -0.12429204, -0.06023866, -0.06520662, -0.03348402, -0.06163869,\n",
       "        -0.01513956, -0.22964188, -0.13944454,  0.16588426, -0.04321912,\n",
       "        -0.1543477 , -0.03941105,  0.17493449, -0.1148633 , -0.01159767,\n",
       "         0.20919892, -0.18392037, -0.05516519, -0.05128727, -0.02323581,\n",
       "        -0.055202  , -0.0114995 , -0.06416931, -0.09343681, -0.05363348,\n",
       "        -0.08300845, -0.1695631 , -0.05627049, -0.02527158, -0.07947899,\n",
       "        -0.16567582, -0.2327165 ,  0.11114741,  0.15413088, -0.13245876,\n",
       "        -0.05534596, -0.03432525, -0.06141996, -0.08627858, -0.04983967,\n",
       "         0.10191907, -0.00652268, -0.1062319 , -0.09057385, -0.03703085,\n",
       "         0.0082935 , -0.14420176,  0.03678568, -0.01174159, -0.12533872,\n",
       "        -0.0887965 , -0.06172017, -0.09258478, -0.00811309, -0.21195456,\n",
       "        -0.00186617, -0.07931688, -0.17705452,  0.05426796, -0.04524482,\n",
       "        -0.10452429, -0.03199669,  0.01661379, -0.10958298, -0.06427156,\n",
       "        -0.05485494,  0.12724867, -0.05433224, -0.15480714, -0.09714821,\n",
       "         0.16970384, -0.01676698, -0.1229881 , -0.01836591, -0.13510875,\n",
       "        -0.10150146,  0.03118414, -0.07881735, -0.12010892, -0.09594929,\n",
       "        -0.02489984, -0.10833645,  0.02765341, -0.05514251, -0.03554173,\n",
       "        -0.09981351, -0.01480829, -0.20851433, -0.15189138, -0.07011833,\n",
       "        -0.03119808, -0.08392615, -0.05698823, -0.06418139, -0.04816534,\n",
       "        -0.06435886, -0.07113969,  0.00798316, -0.03490665, -0.27656275,\n",
       "        -0.08096667, -0.09624168, -0.05326253, -0.0564621 , -0.11892051,\n",
       "         0.08068116, -0.05619854, -0.07195973, -0.12993449, -0.01108553,\n",
       "        -0.03694617, -0.15802146,  0.05400035, -0.11104653, -0.12365835,\n",
       "         0.02222895, -0.06716111, -0.03843514, -0.22184992, -0.01021698,\n",
       "         0.00622789,  0.17491688, -0.07343844, -0.17915799, -0.06503916,\n",
       "        -0.03651807,  0.0137374 ,  0.07547951, -0.09140589, -0.04993584,\n",
       "        -0.04520833, -0.06853392, -0.02678612, -0.09458074, -0.10617694,\n",
       "        -0.16446905, -0.04299378, -0.06454457, -0.17488708, -0.01378426,\n",
       "        -0.03344852,  0.1451521 , -0.08071106,  0.07273941, -0.05129046,\n",
       "        -0.03990936, -0.04075193,  0.01428408, -0.05908367,  0.05553134,\n",
       "        -0.1271387 , -0.12200116, -0.08500007, -0.04643963, -0.13363443,\n",
       "         0.04909066,  0.12766665, -0.06988022, -0.0846296 ,  0.00445412,\n",
       "        -0.01439668, -0.04028781, -0.04129418,  0.00454855, -0.0474924 ,\n",
       "        -0.1298531 , -0.03034389, -0.04163972, -0.06190443,  0.13317585,\n",
       "        -0.05974872,  0.01403061, -0.03776322, -0.1545225 ,  0.04405382,\n",
       "        -0.04012942, -0.11432773, -0.05256329, -0.11740599, -0.10578337,\n",
       "        -0.06846102, -0.07069752,  0.10416802,  0.11557609, -0.12313369,\n",
       "        -0.02106207, -0.0255932 , -0.05305725, -0.14991412, -0.23729952,\n",
       "         0.01911099,  0.04153007, -0.0617846 , -0.13937405, -0.04186143,\n",
       "        -0.10994911, -0.05010068, -0.12716118, -0.08848074, -0.01306714,\n",
       "        -0.05106895, -0.04925865, -0.03433553, -0.1293973 , -0.02644654,\n",
       "        -0.07222962, -0.06293735, -0.00125564,  0.07170776, -0.11777189,\n",
       "         0.10721907, -0.03676685, -0.02064451,  0.17216715, -0.04976398,\n",
       "        -0.1036709 , -0.10145165, -0.04700716, -0.24169968,  0.00250397,\n",
       "        -0.08105099, -0.12674618,  0.07699307, -0.05726906,  0.00232072,\n",
       "        -0.17574367,  0.15836996, -0.10756105, -0.08173066,  0.01309528,\n",
       "        -0.10316617, -0.01655469, -0.11957265, -0.02956526, -0.01846103,\n",
       "         0.19548975, -0.08396444, -0.08071782, -0.10145598, -0.20491344,\n",
       "        -0.12141474, -0.11577291, -0.10898989, -0.09321257, -0.04946614,\n",
       "        -0.02813633, -0.01577769, -0.02769644,  0.06670705, -0.00625435,\n",
       "         0.15696068, -0.07950384, -0.07573138, -0.1325947 , -0.15575139,\n",
       "         0.01515667, -0.06489986, -0.13175307, -0.05364753,  0.06775934,\n",
       "        -0.08386778, -0.09864791, -0.16691624, -0.01666709, -0.01343653,\n",
       "         0.00286834, -0.12195507, -0.12154546, -0.02613989, -0.05891624,\n",
       "         0.01192968, -0.16185734, -0.1051242 , -0.08092847, -0.1421215 ,\n",
       "        -0.10352599, -0.06699929, -0.04468526, -0.11659908,  0.00335513,\n",
       "        -0.06685525, -0.03852407, -0.11022834, -0.19424488, -0.06132889,\n",
       "        -0.0359474 , -0.12332837, -0.03723765, -0.13015264, -0.10402952,\n",
       "        -0.01693966, -0.06605726, -0.06779173,  0.07547741, -0.0582758 ,\n",
       "        -0.08977272,  0.05151229, -0.07712907, -0.10053912, -0.16888747,\n",
       "        -0.08314604, -0.07220531, -0.1600047 , -0.09722099, -0.07804431,\n",
       "        -0.13718666, -0.07336119,  0.02088272, -0.08603878, -0.06529958,\n",
       "        -0.07815953, -0.05178363, -0.06298931, -0.10815341, -0.05515712,\n",
       "        -0.02681405, -0.15495114, -0.04947316, -0.09209598, -0.07866777,\n",
       "        -0.07272052, -0.04555224, -0.18777126,  0.00048142, -0.05790022,\n",
       "        -0.00575844, -0.04012306, -0.08471859, -0.10288652, -0.07462516,\n",
       "        -0.14888053,  0.05983683, -0.04850261, -0.2107165 , -0.02364673,\n",
       "        -0.03652759, -0.06006264, -0.25878906, -0.04401943, -0.09461395,\n",
       "        -0.15886842, -0.04214836, -0.16951102, -0.00851225, -0.01270294,\n",
       "        -0.00714571, -0.06273399, -0.07186536, -0.14851502, -0.06044139,\n",
       "        -0.00645077,  0.03437583, -0.08471722,  0.02034315, -0.08691352,\n",
       "        -0.04020561, -0.00442801, -0.11566871, -0.10702247, -0.04644056,\n",
       "        -0.15763448, -0.03823879, -0.07864843, -0.10461747, -0.00173824,\n",
       "        -0.09871554, -0.10033625, -0.05682669, -0.03260019,  0.05672124,\n",
       "        -0.10383664, -0.177915  , -0.12478952, -0.05589139, -0.0404118 ,\n",
       "        -0.0696891 ,  0.0597332 , -0.0530271 , -0.01531591, -0.16773745,\n",
       "        -0.22291665, -0.05172371, -0.16761228, -0.07729229, -0.07571954,\n",
       "         0.17195554, -0.06076343, -0.06989983,  0.01671645, -0.03740839,\n",
       "        -0.11409391, -0.06639571, -0.03997568, -0.14493315, -0.0520896 ,\n",
       "         0.0569903 , -0.11914815, -0.04493852, -0.06185938,  0.13144086,\n",
       "        -0.06841213, -0.07463119, -0.02377804, -0.14725871, -0.02520701,\n",
       "         0.00355112, -0.13371584, -0.07180621, -0.01834319, -0.05949036,\n",
       "        -0.03571323, -0.02970334, -0.09956516, -0.12788677, -0.20543107,\n",
       "        -0.06039472,  0.00493879, -0.01665325, -0.06172199, -0.09603473,\n",
       "        -0.01112102, -0.17197973, -0.09833344, -0.01582295, -0.11057527,\n",
       "        -0.06827158, -0.06928014, -0.16082668, -0.12806955,  0.11110032,\n",
       "        -0.08733436, -0.12207961,  0.02341294, -0.01864182, -0.1699277 ,\n",
       "         0.08508392, -0.03979365, -0.05326081, -0.09514349, -0.17274235,\n",
       "        -0.03153164, -0.03242748, -0.06202765, -0.17258577, -0.18359756,\n",
       "        -0.07141561, -0.1059095 ,  0.04132172, -0.15463029, -0.00738178,\n",
       "        -0.06923473, -0.02335864, -0.05092051, -0.04989009, -0.10450562,\n",
       "        -0.01346433,  0.18788533, -0.12560235, -0.00890652, -0.13863255,\n",
       "         0.09487007, -0.00066627, -0.02430163, -0.10684688, -0.04094912,\n",
       "        -0.06743731, -0.04654693,  0.04255342, -0.13629524, -0.09462511,\n",
       "        -0.00306717, -0.04056346, -0.13107051, -0.03377981, -0.01997443,\n",
       "        -0.1209871 , -0.08065789, -0.07541668, -0.12818769, -0.03970656,\n",
       "         0.10886377, -0.09981643, -0.0284366 , -0.05901232,  0.04213991,\n",
       "        -0.07847673, -0.07007039,  0.04457181, -0.07239154,  0.01270658,\n",
       "        -0.09871974, -0.05912773, -0.08539119, -0.10231098,  0.21678172,\n",
       "         0.00354106, -0.06049106, -0.11883415, -0.07930185, -0.14017655,\n",
       "        -0.01272819, -0.11349181, -0.10210511, -0.05707528, -0.10977077,\n",
       "        -0.03801147,  0.04657119, -0.07695616,  0.18543224, -0.09805537,\n",
       "        -0.03497287, -0.06621232, -0.00105939, -0.15042068, -0.01996037,\n",
       "        -0.129312  , -0.08009934, -0.05097038,  0.08115925, -0.00285113,\n",
       "        -0.14654627, -0.00060065, -0.06162013, -0.18561086,  0.05647055,\n",
       "         0.09913985, -0.02962342, -0.065115  , -0.04892797, -0.10340268,\n",
       "        -0.08153343, -0.15965457, -0.03870615, -0.07002555, -0.00672271,\n",
       "        -0.05945121, -0.23219904, -0.09289379, -0.02225001,  0.09348961,\n",
       "        -0.05764839,  0.13432334,  0.13411844, -0.0383958 , -0.11796553,\n",
       "        -0.09192405, -0.05510394, -0.07333861, -0.03169455,  0.09932587,\n",
       "        -0.04438594, -0.1293181 , -0.05998997, -0.01036743, -0.01096163,\n",
       "        -0.0722036 ,  0.00791773,  0.13094276, -0.08013996, -0.03269148,\n",
       "        -0.10843951,  0.10472856,  0.01463739, -0.08935285, -0.06563146,\n",
       "        -0.12490249, -0.15832178, -0.03711671,  0.031755  ,  0.00851148,\n",
       "        -0.00059057, -0.11707463, -0.05224766, -0.06171265, -0.15029444,\n",
       "        -0.12462268,  0.08203024, -0.04133363,  0.05963797, -0.00432261,\n",
       "        -0.08878656,  0.03770086,  0.02773322, -0.10724198, -0.15245815,\n",
       "        -0.04045082, -0.11081692, -0.12181941, -0.11694407, -0.09868272,\n",
       "        -0.05987088, -0.14156659, -0.04263238, -0.13311441,  0.09602414,\n",
       "         0.06350151, -0.05838094, -0.16151756, -0.22028768, -0.09779758,\n",
       "        -0.19125785, -0.08014993, -0.05859206, -0.03445816, -0.10318977,\n",
       "        -0.0718609 , -0.09933397, -0.0821666 , -0.17020385,  0.01781696,\n",
       "        -0.07676122, -0.14555115,  0.11309186, -0.08968209,  0.15580074,\n",
       "        -0.03091182, -0.03936242,  0.1969697 , -0.04457184, -0.02461815,\n",
       "        -0.02081075, -0.04901397, -0.08332671, -0.00779736, -0.15808727,\n",
       "        -0.05639525,  0.12458799,  0.01784707, -0.10160567, -0.08267947,\n",
       "        -0.14285308, -0.0699224 , -0.07045267, -0.1323602 , -0.00639913,\n",
       "        -0.07171029, -0.24313483, -0.2026417 ,  0.06505854, -0.03032617,\n",
       "        -0.05823467,  0.01852509, -0.02386494,  0.15025859, -0.02352338,\n",
       "        -0.15082547, -0.05884689, -0.11726971,  0.00101298, -0.04909912,\n",
       "        -0.04519253, -0.02806598,  0.07904763, -0.09145218, -0.07451031,\n",
       "        -0.02267839, -0.09593678, -0.09954074, -0.12795173, -0.04796698,\n",
       "        -0.03706305,  0.0515676 , -0.03213473, -0.13255326, -0.15155384,\n",
       "        -0.0475384 , -0.00799701, -0.1141797 , -0.04659209, -0.05521393,\n",
       "        -0.02275259, -0.04871555,  0.00316081, -0.06687197, -0.09403803,\n",
       "        -0.08021339, -0.09030908, -0.03323691, -0.02882343, -0.05655024,\n",
       "        -0.01093289, -0.22514474, -0.03496738,  0.00140248, -0.05007482,\n",
       "        -0.11215202, -0.06223257,  0.03614493, -0.02315466, -0.05839678,\n",
       "        -0.10019236,  0.06240933, -0.02561639, -0.1904176 ,  0.01009894,\n",
       "        -0.05039615,  0.1098969 , -0.05039995, -0.07446907,  0.03763483,\n",
       "         0.04164252, -0.05744234, -0.0580308 , -0.02786132, -0.02332114,\n",
       "        -0.05581641, -0.09418401,  0.14685504, -0.10162687, -0.15564917,\n",
       "        -0.10752562, -0.15728956, -0.07778129, -0.01509535, -0.19357857,\n",
       "         0.17410418, -0.13412878, -0.0247136 , -0.02813344, -0.13155179,\n",
       "        -0.20405796,  0.04152254,  0.04069599,  0.02391879, -0.1762996 ,\n",
       "        -0.07988049, -0.04306631, -0.07690157, -0.05782304, -0.17459689,\n",
       "        -0.14128084, -0.11503486, -0.21973498,  0.02290659,  0.18912028,\n",
       "        -0.08883044,  0.15634812,  0.01304998, -0.06057766, -0.06267788,\n",
       "        -0.04252763, -0.01032779, -0.13518907, -0.072808  , -0.08323158,\n",
       "         0.09954848, -0.03396698,  0.15383768, -0.02639203, -0.01670358,\n",
       "        -0.03960423,  0.03439795, -0.05306618, -0.03933607, -0.03456925,\n",
       "        -0.0091924 , -0.0081224 , -0.04430538, -0.09766234,  0.10641783,\n",
       "        -0.10835298,  0.03645248, -0.04893421, -0.07498769, -0.0922474 ,\n",
       "         0.01042934, -0.07169863, -0.03147859, -0.09082948, -0.04502294,\n",
       "         0.11388361, -0.08326996, -0.06489635, -0.07427676, -0.0542826 ,\n",
       "        -0.13849656, -0.07022789, -0.1148278 , -0.08051625, -0.01197305,\n",
       "        -0.09974259, -0.0946057 , -0.03581613, -0.11756888, -0.08778718,\n",
       "        -0.08145453,  0.16017997,  0.06918371,  0.03273212, -0.04629975,\n",
       "        -0.10971288,  0.08251037, -0.04712315, -0.03948617, -0.0026185 ,\n",
       "        -0.08370736, -0.06273644,  0.07446727, -0.05793254, -0.20276308,\n",
       "        -0.02697441, -0.14529678, -0.06815793, -0.12674314, -0.02435583,\n",
       "        -0.08059286, -0.06993479, -0.05643749, -0.13864085, -0.15951625,\n",
       "        -0.07585179, -0.06938577,  0.04105122,  0.0043239 ,  0.06880715,\n",
       "        -0.08739556, -0.19585478,  0.00445994, -0.05447462, -0.04816736,\n",
       "         0.00342689, -0.19235441, -0.12599623, -0.11073114, -0.1568951 ],\n",
       "       dtype=float32)]"
      ]
     },
     "execution_count": 10,
     "metadata": {},
     "output_type": "execute_result"
    }
   ],
   "source": [
    "Arr = model.layers[2].get_weights()\n",
    "Arr"
   ]
  },
  {
   "cell_type": "code",
   "execution_count": 11,
   "metadata": {},
   "outputs": [
    {
     "data": {
      "text/plain": [
       "([array([2.70000e+01, 1.12000e+02, 6.85000e+02, 4.46900e+03, 4.29090e+04,\n",
       "         3.22193e+05, 3.68441e+05, 4.27260e+04, 2.35500e+03, 8.30000e+01]),\n",
       "  array([  0.,   0.,   0.,   0.,   4., 642., 352.,   2.,   0.,   0.])],\n",
       " array([-0.6651388 , -0.5566747 , -0.44821066, -0.33974656, -0.2312825 ,\n",
       "        -0.12281844, -0.01435437,  0.0941097 ,  0.20257376,  0.31103784,\n",
       "         0.4195019 ], dtype=float32),\n",
       " <a list of 2 Lists of Patches objects>)"
      ]
     },
     "execution_count": 11,
     "metadata": {},
     "output_type": "execute_result"
    },
    {
     "data": {
      "image/png": "[encoded data removed]",
      "text/plain": [
       "<Figure size 432x288 with 1 Axes>"
      ]
     },
     "metadata": {
      "needs_background": "light"
     },
     "output_type": "display_data"
    }
   ],
   "source": [
    "plt.hist(model.layers[1].get_weights())"
   ]
  },
  {
   "cell_type": "code",
   "execution_count": 4,
   "metadata": {},
   "outputs": [],
   "source": []
  },
  {
   "cell_type": "code",
   "execution_count": null,
   "metadata": {},
   "outputs": [],
   "source": []
  }
 ],
 "metadata": {
  "kernelspec": {
   "display_name": "Python 3",
   "language": "python",
   "name": "python3"
  },
  "language_info": {
   "codemirror_mode": {
    "name": "ipython",
    "version": 3
   },
   "file_extension": ".py",
   "mimetype": "text/x-python",
   "name": "python",
   "nbconvert_exporter": "python",
   "pygments_lexer": "ipython3",
   "version": "3.7.0"
  }
 },
 "nbformat": 4,
 "nbformat_minor": 2
}
